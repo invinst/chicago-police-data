{
 "cells": [
  {
   "cell_type": "code",
   "execution_count": 1,
   "metadata": {
    "collapsed": true
   },
   "outputs": [],
   "source": [
    "import numpy as np \n",
    "import pandas as pd\n",
    "import time\n",
    "import re"
   ]
  },
  {
   "cell_type": "code",
   "execution_count": 2,
   "metadata": {
    "collapsed": true
   },
   "outputs": [],
   "source": [
    "path = '/users/thudson/Documents/Dropbox/chicago-police-data'\n",
    "output_path = path + '/import/output'\n",
    "context_path = path + '/context_data/Raw personnel data' "
   ]
  },
  {
   "cell_type": "code",
   "execution_count": 3,
   "metadata": {
    "collapsed": true
   },
   "outputs": [],
   "source": [
    "## context files for officer names\n",
    "context_files = ['/Kalven 16-1105 All Sworn Employees (1).xlsx',\n",
    "                 '/P050032 All Members Rank.xlsx',\n",
    "                 '/SWORN -FAN 19 JUL 2016 P049085.xlsx']\n",
    "\n",
    "## files that contain officer names as either accused or witnesses\n",
    "## INCLUDE INVESTIGATORS?\n",
    "output_files = ['/complaints-cpd-2016-dec_copy_20170112/MAINFRAME_COMPLAINTS_REVISED_30NOV2016.csv',\n",
    "                '/complaints-cpd-2016-dec_copy_20170112/NEW_WITNESS_FILE_NOV_29_2016_-_no_emp_number.csv',\n",
    "                '/complaints-cpd-2016-jun_copy_20170112/P046957_-_report_2_-_identified_accused_xi-unlocked.csv',\n",
    "                '/complaints-cpd-2016-jun_copy_20170112/P046957_-_report_3_-_police_officer_witness_data_xi-unlocked.csv',\n",
    "                '/complaints-cpd-2016-nov_copy_20170112/p046957_-_report_2_-_identified_accused.csv',\n",
    "                '/complaints-cpd-2016-nov_copy_20170112/p046957_-_report_3_-_police_officer_witness_data_xi.csv',\n",
    "                '/complaints-cpd-2016-oct_copy_20170112/CR_AllRecords.csv',\n",
    "                '/complaints-ipra-2016-apr_copy_20170112/All_complaints_during_2012-2016YTD.csv',\n",
    "                '/shootings-cpd-feb2016_copy_20170112/CPD_Reporting_Party(1).csv',\n",
    "                '/shootings-cpd-feb2016_copy_20170112/crms_-_05j_cpd_witness,_reporting_party,_victim(1).csv',\n",
    "                '/shootings-cpd-feb2016_copy_20170112/crms_-_05j_Officer(1).csv',\n",
    "                '/shootings-cpd-feb2016_copy_20170112/Involved_Member(1).csv',\n",
    "                '/shootings-cpd-feb2016_copy_20170112/stars-for_involved_members(1).csv',\n",
    "                '/shootings-ipra-may2016_copy_20170112/IPRA_Shootings_Data_qry_II_217_Data163.csv',\n",
    "                '/shootings-ipra-may2016_copy_20170112/qry_II_217_Incid.csv',\n",
    "                '/shootings-ipra-may2016_copy_20170112/qry_II_217_Parties.csv',\n",
    "                '/TRRs/Officers.csv',\n",
    "                '/TRRs/Statuses_Other_Members.csv',\n",
    "                '/TRRs/Star_No.csv',\n",
    "                '/complaints-merged-2015_copy_20170112/august_2015/foia_14-5509_-_birth_year_of_accused.csv',\n",
    "                '/complaints-merged-2015_copy_20170112/march_2015/Report_2_-_Identified_Accused/foia_14-5509_-_report_2.csv',\n",
    "                '/complaints-merged-2015_copy_20170112/march_2015/Report_3_-_Police_Witnesses/foia_14-5509_-_report_3.csv',\n",
    "                '/complaints-merged-2015_copy_20170112/september_2015/foia_15-4790_-_report 3_-_police_officer_witness_data.csv',\n",
    "                '/complaints-merged-2015_copy_20170112/september_2015/foia_15-4790_-_report_2_-_identified_accused_xi.csv'\n",
    "               ]\n",
    "\n"
   ]
  },
  {
   "cell_type": "code",
   "execution_count": 4,
   "metadata": {
    "collapsed": true
   },
   "outputs": [],
   "source": [
    "list_of_context_dfs = []"
   ]
  },
  {
   "cell_type": "code",
   "execution_count": 6,
   "metadata": {
    "collapsed": false
   },
   "outputs": [],
   "source": [
    "for file in context_files:\n",
    "    context_df = pd.read_excel(context_path+file)\n",
    "    try:\n",
    "        list_of_context_dfs.append(context_df.loc[:,['LAST_NME','FIRST_NME']])\n",
    "    except:\n",
    "        ## index values cut off notes at bottom of file\n",
    "        list_of_context_dfs.append(context_df.loc[0:31932,['Last Name','First Name']])"
   ]
  },
  {
   "cell_type": "code",
   "execution_count": 12,
   "metadata": {
    "collapsed": false
   },
   "outputs": [
    {
     "ename": "NameError",
     "evalue": "name 'list_of_context_dfs' is not defined",
     "output_type": "error",
     "traceback": [
      "\u001b[0;31m---------------------------------------------------------------------------\u001b[0m",
      "\u001b[0;31mNameError\u001b[0m                                 Traceback (most recent call last)",
      "\u001b[0;32m<ipython-input-12-0c691d96e302>\u001b[0m in \u001b[0;36m<module>\u001b[0;34m()\u001b[0m\n\u001b[0;32m----> 1\u001b[0;31m \u001b[0;32mfor\u001b[0m \u001b[0mdf\u001b[0m \u001b[0;32min\u001b[0m \u001b[0mlist_of_context_dfs\u001b[0m\u001b[0;34m:\u001b[0m\u001b[0;34m\u001b[0m\u001b[0m\n\u001b[0m\u001b[1;32m      2\u001b[0m     \u001b[0mprint\u001b[0m\u001b[0;34m(\u001b[0m\u001b[0mdf\u001b[0m\u001b[0;34m.\u001b[0m\u001b[0miloc\u001b[0m\u001b[0;34m[\u001b[0m\u001b[0;36m0\u001b[0m\u001b[0;34m:\u001b[0m\u001b[0;36m5\u001b[0m\u001b[0;34m,\u001b[0m\u001b[0;34m]\u001b[0m\u001b[0;34m)\u001b[0m\u001b[0;34m\u001b[0m\u001b[0m\n",
      "\u001b[0;31mNameError\u001b[0m: name 'list_of_context_dfs' is not defined"
     ]
    }
   ],
   "source": [
    "for df in list_of_context_dfs:\n",
    "    print(df.iloc[0:5,])"
   ]
  },
  {
   "cell_type": "code",
   "execution_count": 7,
   "metadata": {
    "collapsed": false
   },
   "outputs": [],
   "source": [
    "list_of_output_dfs = []"
   ]
  },
  {
   "cell_type": "code",
   "execution_count": 8,
   "metadata": {
    "collapsed": false
   },
   "outputs": [
    {
     "name": "stderr",
     "output_type": "stream",
     "text": [
      "/Users/thudson/anaconda/envs/civis-model/lib/python3.5/site-packages/IPython/core/interactiveshell.py:2717: DtypeWarning: Columns (2,8,11,15,17) have mixed types. Specify dtype option on import or set low_memory=False.\n",
      "  interactivity=interactivity, compiler=compiler, result=result)\n",
      "/Users/thudson/anaconda/envs/civis-model/lib/python3.5/site-packages/IPython/core/interactiveshell.py:2717: DtypeWarning: Columns (6) have mixed types. Specify dtype option on import or set low_memory=False.\n",
      "  interactivity=interactivity, compiler=compiler, result=result)\n",
      "/Users/thudson/anaconda/envs/civis-model/lib/python3.5/site-packages/IPython/core/interactiveshell.py:2717: DtypeWarning: Columns (1) have mixed types. Specify dtype option on import or set low_memory=False.\n",
      "  interactivity=interactivity, compiler=compiler, result=result)\n",
      "/Users/thudson/anaconda/envs/civis-model/lib/python3.5/site-packages/IPython/core/interactiveshell.py:2717: DtypeWarning: Columns (25) have mixed types. Specify dtype option on import or set low_memory=False.\n",
      "  interactivity=interactivity, compiler=compiler, result=result)\n"
     ]
    }
   ],
   "source": [
    "for i,file in enumerate(output_files):\n",
    "    output_df = pd.read_csv(output_path+file)\n",
    "    if i in (0,2,4,20,23):\n",
    "        list_of_output_dfs.append(output_df.Accused) \n",
    "    elif i in (1,12,16,17,18):\n",
    "        list_of_output_dfs.append(output_df.loc[:,['Officer_Last_Name','Officer_First_Name']])\n",
    "    elif i in (3,5,21,22): \n",
    "        list_of_output_dfs.append(output_df.Officer_Witness)\n",
    "    elif i == 6:\n",
    "        list_of_output_dfs.append(output_df.Officer_Name)\n",
    "    elif i == 7:\n",
    "        list_of_output_dfs.append(output_df.loc[:,[\"Accused_First_Name\",'Accused_Last_Name',\n",
    "                                           'Involved_Officer_First_Name','Involved_Officer_Last_Name']])\n",
    "    elif i == 8:\n",
    "        list_of_output_dfs.append(output_df.Officer_Reporting_Party)\n",
    "    elif i == 9:\n",
    "        list_of_output_dfs.append(output_df[output_df['CPD_or_Not']=='CPD Sworn'].Values)\n",
    "    elif i == 10:\n",
    "        list_of_output_dfs.append(output_df.Officer)\n",
    "    elif i == 11:\n",
    "        list_of_output_dfs.append(output_df.Involved_Officer)\n",
    "    elif i in (13,15):\n",
    "        list_of_output_dfs.append(output_df.loc[:,[\"Accused_First_Name\",'Accused_Last_Name',\n",
    "                                           'Involved_Party_First_Name','Involved_Party_Last_Name']])\n",
    "    elif i == 14:\n",
    "        list_of_output_dfs.append(output_df.loc[:,[\"Accused_First_Name\",'Accused_Last_Name']])\n",
    "    elif i == 19:\n",
    "        list_of_output_dfs.append(output_df.Accused_Full_Name)"
   ]
  },
  {
   "cell_type": "code",
   "execution_count": 9,
   "metadata": {
    "collapsed": false,
    "scrolled": false
   },
   "outputs": [
    {
     "name": "stdout",
     "output_type": "stream",
     "text": [
      "0      FRANK LYNCH\n",
      "1     PETER PARISI\n",
      "2      JAMES AHERN\n",
      "3       JOHN HAUGH\n",
      "4    ROBERT BROWNE\n",
      "Name: Accused, dtype: object\n",
      "  Officer_Last_Name Officer_First_Name\n",
      "0               NaN                NaN\n",
      "1         BURZINSKI             WALTER\n",
      "2            SHAFER            CHARLES\n",
      "3               NaN                NaN\n",
      "4               NaN                NaN\n",
      "0    GONZALES, ROBIN\n",
      "1       BECKER, JOHN\n",
      "2      MARKHAM, SEAN\n",
      "3        WELLS, OTIS\n",
      "4    MCCLAY, CHARLES\n",
      "Name: Accused, dtype: object\n",
      "0            HARRIS, KAL\n",
      "1    BUKOWSKIBUS, GEORGE\n",
      "2      HEINICHEN, WALTER\n",
      "3       LAMEKA, MARGARET\n",
      "4         SCALES, MONICA\n",
      "Name: Officer_Witness, dtype: object\n",
      "0       BARRON, WILLIAM\n",
      "1    C0NNOLLY, KIMBERLY\n",
      "2           KEENE, JOHN\n",
      "3         SLAVIN, SCOTT\n",
      "4     MARTINEZ, ANTONIO\n",
      "Name: Accused, dtype: object\n",
      "0    DOLCIMASCOLO, NED\n",
      "1       BRYANT, YVONNE\n",
      "2       CARROLL, RONDY\n",
      "3      CASTILLO, DIEGO\n",
      "4      RODIRGUEZ, GINA\n",
      "Name: Officer_Witness, dtype: object\n",
      "0    ABBATE, ANTHONY G\n",
      "1    ABBATE, ANTHONY G\n",
      "2     ABBATE, CARMEL G\n",
      "3     ABBATE, CARMEL G\n",
      "4     ABBATE, CARMEL G\n",
      "Name: Officer_Name, dtype: object\n",
      "  Accused_First_Name Accused_Last_Name Involved_Officer_First_Name  \\\n",
      "0                NaN               NaN                    CABRERA    \n",
      "1                NaN               NaN                   CHRISTOPH   \n",
      "2                NaN               NaN                      DENNIS   \n",
      "3                NaN               NaN                   CHRISTIAN   \n",
      "4                NaN               NaN                   CHRISTOPH   \n",
      "\n",
      "  Involved_Officer_Last_Name  \n",
      "0                   EVARUSTO  \n",
      "1                       KAPA  \n",
      "2                    O BRIEN  \n",
      "3                     ALICEA  \n",
      "4                       KAPA  \n",
      "0       STAPLES, MELISSA\n",
      "1    FLETCHER, CHRISTOPH\n",
      "2        ALEXANDER, DANA\n",
      "3     MC NAUGHTON, DAVID\n",
      "4           WALLER, FRED\n",
      "Name: Officer_Reporting_Party, dtype: object\n",
      "4        CHRISTENSEN, AMY\n",
      "5         LAWSON, JEFFREY\n",
      "6           MASON, HAROLD\n",
      "7     WILLIAMS, CHRISTOPH\n",
      "10              TOTH, LOU\n",
      "Name: Values, dtype: object\n",
      "0          YANEZ, JUAN\n",
      "1       CHATYS, MARTIN\n",
      "2     CASTILLO, DANIEL\n",
      "3           FRY, KEVIN\n",
      "4    HERNANDEZ, GEORGE\n",
      "Name: Officer, dtype: object\n",
      "0           LEJA, JACEK\n",
      "1       RAETHER, JUSTIN\n",
      "2    RAMEY, CHRISTOPHER\n",
      "3          SEHNER, ERIC\n",
      "4      LESCH, NICHOLAUS\n",
      "Name: Involved_Officer, dtype: object\n",
      "  Officer_Last_Name Officer_First_Name\n",
      "0              DIAZ             JOSHUA\n",
      "1        WESSELHOFF               MARK\n",
      "2          GREGOIRE               JOHN\n",
      "3           O NEILL             EDWARD\n",
      "4        SANCHEZ JR            ORLANDO\n",
      "  Accused_First_Name Accused_Last_Name Involved_Party_First_Name  \\\n",
      "0                NaN               NaN                      DANA   \n",
      "1                NaN               NaN                   ARNULFO   \n",
      "2                NaN               NaN                     DAVID   \n",
      "3                NaN               NaN                   CHARLES   \n",
      "4                NaN               NaN                   CHARLES   \n",
      "\n",
      "  Involved_Party_Last_Name  \n",
      "0                ALEXANDER  \n",
      "1                    GOMEZ  \n",
      "2                 PASILLAS  \n",
      "3                    SMITH  \n",
      "4                    SMITH  \n",
      "  Accused_First_Name Accused_Last_Name\n",
      "0                NaN               NaN\n",
      "1                NaN               NaN\n",
      "2                NaN               NaN\n",
      "3                NaN               NaN\n",
      "4                NaN               NaN\n",
      "  Accused_First_Name Accused_Last_Name Involved_Party_First_Name  \\\n",
      "0                NaN               NaN                    CARLOS   \n",
      "1                NaN               NaN                     VICKY   \n",
      "2                NaN               NaN                     VINCE   \n",
      "3                NaN               NaN                   LAQUINN   \n",
      "4                NaN               NaN                    CARLOS   \n",
      "\n",
      "  Involved_Party_Last_Name  \n",
      "0                    VELEZ  \n",
      "1                    PEREZ  \n",
      "2                   MACIAS  \n",
      "3                   WALKER  \n",
      "4                    VELEZ  \n",
      "  Officer_Last_Name Officer_First_Name\n",
      "0          DALCASON               JOHN\n",
      "1       THORNTON JR               JOHN\n",
      "2             SHAAR             KHALED\n",
      "3           ORLANDO            MICHAEL\n",
      "4           JACKSON            MATTHEW\n",
      "  Officer_Last_Name Officer_First_Name\n",
      "0         VELAZQUEZ             ANGELO\n",
      "1              RIOS               JUAN\n",
      "2             ELMER            RICHARD\n",
      "3             REYES              ANDRE\n",
      "4              RIOS               JUAN\n",
      "  Officer_Last_Name Officer_First_Name\n",
      "0         VELAZQUEZ             ANGELO\n",
      "1             REYES              ANDRE\n",
      "2             LIMON              MARIO\n",
      "3           HERRERA            ANTONIO\n",
      "4       MILOVANOVIC              DEJAN\n",
      "0          AARON, JEFFERY\n",
      "1           AARON, KARINA\n",
      "2    ABDELHADI, ABDALMAHD\n",
      "3       ABDELMAJEID, AZIZ\n",
      "4          ABRAHAM, NANCY\n",
      "Name: Accused_Full_Name, dtype: object\n",
      "0       BALLARD, PERRY\n",
      "1    CANDELARIO, CESAR\n",
      "2      BENNETT, JOSEPH\n",
      "3       JONES, EARNEST\n",
      "4         CRUZ, ADABEL\n",
      "Name: Accused, dtype: object\n",
      "0       GOFF, GERALD\n",
      "1    MULDER, RICHARD\n",
      "2    WATKINS, HILLEL\n",
      "3      BROWN, TANGIE\n",
      "4      DIXON, MARLON\n",
      "Name: Officer_Witness, dtype: object\n",
      "0     KERNAN, WILLIAM\n",
      "1         WARD, ANGEL\n",
      "2        LOONEY, JOHN\n",
      "3     ALCAZAR, VICTOR\n",
      "4    MUHAMMAD, KHALIL\n",
      "Name: Officer_Witness, dtype: object\n",
      "0    MOSTOWSKI, RICHARD\n",
      "1      CARIBOU, JEFFREY\n",
      "2        LANDRUM, CRAIG\n",
      "3          COUCH, JAMES\n",
      "4        GALAN, ARMANDO\n",
      "Name: Accused, dtype: object\n"
     ]
    }
   ],
   "source": [
    "for df in list_of_output_dfs:\n",
    "    print(df.iloc[0:5,])"
   ]
  },
  {
   "cell_type": "code",
   "execution_count": 2,
   "metadata": {
    "collapsed": true
   },
   "outputs": [],
   "source": [
    "import argparse\n",
    "import json\n",
    "import os\n",
    "from rosette.api import API, NameSimilarityParameters"
   ]
  },
  {
   "cell_type": "code",
   "execution_count": 11,
   "metadata": {
    "collapsed": false
   },
   "outputs": [
    {
     "name": "stdout",
     "output_type": "stream",
     "text": [
      "The similarity between \"MOSTOWSKI, RICHARD\" and \"MULDER, RICHARD\" is: 0.418\n"
     ]
    }
   ],
   "source": [
    "def run(name1, name2, key=os.environ['ROSETTE_API_KEY'], altUrl='https://api.rosette.com/rest/v1/'):\n",
    "    # Create an API instance\n",
    "    api = API(user_key=key, service_url=altUrl)\n",
    "\n",
    "    matched_name_data1 = name1\n",
    "    matched_name_data2 = name2\n",
    "    params = NameSimilarityParameters()\n",
    "    params[\"name1\"] = {\"text\": matched_name_data1, \"language\": \"eng\", \"entityType\": \"PERSON\"}\n",
    "    params[\"name2\"] = {\"text\": matched_name_data2, \"language\": \"eng\", \"entityType\": \"PERSON\"}\n",
    "    return api.name_similarity(params)\n",
    "\n",
    "name1 = 'MOSTOWSKI, RICHARD'\n",
    "name2 = 'MULDER, RICHARD'\n",
    "result = run(name1=name1 ,name2=name2)\n",
    "\n",
    "##print(json.dumps(result, indent=2, ensure_ascii=False, sort_keys=True).encode(\"utf8\"))\n",
    "print('The similarity between \"{}\" and \"{}\" is: {}'.format(name1,name2,round(result['score'],3)))"
   ]
  }
 ],
 "metadata": {
  "anaconda-cloud": {},
  "kernelspec": {
   "display_name": "Civis Model",
   "language": "python",
   "name": "civis-model"
  },
  "language_info": {
   "codemirror_mode": {
    "name": "ipython",
    "version": 3
   },
   "file_extension": ".py",
   "mimetype": "text/x-python",
   "name": "python",
   "nbconvert_exporter": "python",
   "pygments_lexer": "ipython3",
   "version": "3.5.2"
  }
 },
 "nbformat": 4,
 "nbformat_minor": 0
}
