{
 "cells": [
  {
   "cell_type": "code",
   "execution_count": null,
   "metadata": {},
   "outputs": [],
   "source": [
    "import os\n",
    "\n",
    "os.chdir(\"..\") "
   ]
  },
  {
   "cell_type": "code",
   "execution_count": null,
   "metadata": {},
   "outputs": [],
   "source": [
    "import matplotlib.pyplot as plt\n",
    "import seaborn as sns\n",
    "\n",
    "sns.set_theme()"
   ]
  },
  {
   "cell_type": "code",
   "execution_count": null,
   "metadata": {},
   "outputs": [],
   "source": [
    "%run src/merge.py"
   ]
  },
  {
   "cell_type": "markdown",
   "metadata": {},
   "source": [
    "# Analysis\n",
    "\n",
    "Look at specific instances that were given with custom merges. \n",
    "\n",
    "Look at all instances where demographic data is changed. \n",
    "\n",
    "\n",
    "\n"
   ]
  },
  {
   "cell_type": "code",
   "execution_count": null,
   "metadata": {},
   "outputs": [],
   "source": [
    "rd.sup_df.matched_on.value_counts()"
   ]
  },
  {
   "cell_type": "code",
   "execution_count": null,
   "metadata": {},
   "outputs": [],
   "source": [
    "import matplotlib.pyplot as plt\n",
    "import pandas as pd\n",
    "\n",
    "def get_fig_ax(title, xlabel, ylabel, plot_size=(20, 10)):\n",
    "    fig, ax = plt.subplots()\n",
    "    fig.set_size_inches(plot_size) \n",
    "\n",
    "    ax.set_title(title)\n",
    "    ax.set_xlabel(xlabel)\n",
    "    ax.set_ylabel(ylabel) \n",
    "\n",
    "    return fig, ax\n",
    "\n",
    "def plot_appointed_date(df, title=\"Officer Profiles - Appointed Dates\", xlabel=\"Appointed Date\", \n",
    "                        ylabel=\"Officer Count\", period='Y', plot_size=(20, 10)):\n",
    "    fig, ax = get_fig_ax(title, xlabel, ylabel, plot_size)\n",
    "\n",
    "    df = df.appointed_date.dt.to_period(period).value_counts().sort_index().plot(kind=\"bar\", ax=ax)\n",
    "\n",
    "    plt.show()\n",
    "\n",
    "def plot_appointed_date_by_merge(df, title=\"Officer Profiles - Appointed Dates Stacked by Merge\",\n",
    "                                 xlabel=\"Appointed Date\", ylabel=\"Officer Count\", plot_size=(20,10),\n",
    "                                 period=\"Y\"):\n",
    "    fig, ax = get_fig_ax(title, xlabel, ylabel, plot_size)\n",
    "\n",
    "    df.assign(merged=df.matched_on.notnull()) \\\n",
    "        .groupby([df['appointed_date'].dt.to_period(period), 'merged']) \\\n",
    "        .agg(pd.Series.nunique)['UID'] \\\n",
    "        .unstack().plot.bar(ax=ax, stacked=True)\n",
    "    \n",
    "    plt.show()\n",
    "\n",
    "cols = ['UID', 'first_name_NS', 'last_name_NS', 'suffix_name', 'middle_initial', 'appointed_date', 'star', 'birth_year', 'race', 'gender', 'resignation_date', 'unit', 'file', 'matched_on']\n",
    "\n",
    "rd.add_file_column()\n"
   ]
  },
  {
   "cell_type": "code",
   "execution_count": null,
   "metadata": {},
   "outputs": [],
   "source": [
    "plot_appointed_date_by_merge(rd.sup_df)"
   ]
  },
  {
   "cell_type": "code",
   "execution_count": null,
   "metadata": {},
   "outputs": [],
   "source": [
    "plot_appointed_date(rd.ref_df[['UID', 'appointed_date']].sort_values('appointed_date').dropna().drop_duplicates(),\n",
    "                    title='Officer Profiles: All Reference')"
   ]
  },
  {
   "cell_type": "markdown",
   "metadata": {},
   "source": [
    "# False Positive Merges"
   ]
  },
  {
   "cell_type": "markdown",
   "metadata": {},
   "source": [
    "### Custom Merges\n",
    "\n",
    "Check explicitly given merge cols "
   ]
  },
  {
   "cell_type": "code",
   "execution_count": null,
   "metadata": {},
   "outputs": [],
   "source": [
    "matched_query = lambda ls: f\"matched_on == '{'-'.join(ls)}'\"\n",
    "\n",
    "def get_match_rows(sup_df, ref_df, match_cols):\n",
    "    uids = sup_df.query(matched_query(match_cols))[\"UID\"]\n",
    "\n",
    "    return ref_df[ref_df.UID.isin(uids)][cols].sort_values(\"UID\")\n"
   ]
  },
  {
   "cell_type": "code",
   "execution_count": null,
   "metadata": {},
   "outputs": [],
   "source": [
    "custom_merge_cols = [cols if isinstance(cols, list) else cols['cols'] for cols in cons.loop_merge['custom_merges']]\n",
    "custom_merge_cols"
   ]
  },
  {
   "cell_type": "code",
   "execution_count": null,
   "metadata": {},
   "outputs": [],
   "source": [
    "custom_merges = {'-'.join(cols): get_match_rows(rd.sup_df, rd.ref_df, cols) for cols in custom_merge_cols}"
   ]
  },
  {
   "cell_type": "code",
   "execution_count": null,
   "metadata": {},
   "outputs": [],
   "source": [
    "for key in custom_merges.keys():\n",
    "    print(f\"{key}: {custom_merges[key].UID.nunique()} matches\")"
   ]
  },
  {
   "cell_type": "markdown",
   "metadata": {},
   "source": [
    "# False Negatives\n",
    "\n",
    "Officers that should have matched, but did not"
   ]
  },
  {
   "cell_type": "code",
   "execution_count": null,
   "metadata": {},
   "outputs": [],
   "source": [
    "possible_false_negatives = rd.sup_um"
   ]
  },
  {
   "cell_type": "code",
   "execution_count": null,
   "metadata": {},
   "outputs": [],
   "source": [
    "plot_appointed_date(possible_false_negatives, period='Y', title=\"Unmatched Officer Profiles\")"
   ]
  },
  {
   "cell_type": "markdown",
   "metadata": {},
   "source": [
    "### Relax merge constraints, remerge sup_um to ref_df\n",
    "\n",
    "Similar to multirow loop merge but without the mask at the end, look at possible forms of merges. "
   ]
  },
  {
   "cell_type": "code",
   "execution_count": null,
   "metadata": {},
   "outputs": [],
   "source": [
    "import logging\n",
    "import sys\n",
    "\n",
    "local_log = logging.getLogger(\"test\")\n",
    "local_log.setLevel(logging.INFO)\n",
    "\n",
    "formatter = logging.Formatter(\n",
    "    '%(asctime)s[%(levelname)s]: %(message)s',\n",
    "    datefmt='%Y-%m-%dT%H:%M:%S')\n",
    "\n",
    "stream_out = logging.StreamHandler(sys.stdout)\n",
    "stream_out.setFormatter(formatter)\n",
    "\n",
    "local_log.addHandler(stream_out)"
   ]
  },
  {
   "cell_type": "code",
   "execution_count": null,
   "metadata": {},
   "outputs": [],
   "source": [
    "base_OD =   [('star', ['star', '']),\n",
    "            ('first_name', ['first_name_NS', 'F4FN']),\n",
    "            ('last_name', ['last_name_NS', 'F4LN']),\n",
    "            ('appointed_date', ['appointed_date', '']),\n",
    "            ('birth_year', ['birth_year', 'current_age', 'current_age_p1', 'current_age_m1', '']),\n",
    "            ('middle_initial', ['middle_initial', '']),\n",
    "            ('middle_initial2', ['middle_initial2', '']),\n",
    "            ('gender', ['gender', '']),\n",
    "            ('race', ['race', '']),\n",
    "            ('suffix_name', ['suffix_name', '']),\n",
    "            ('current_unit', ['current_unit', ''])]\n",
    "\n",
    "rd_test = ReferenceData(ref_df, uid=cons.universal_id, log=local_log) \\\n",
    "    .add_sup_data(possible_false_negatives, add_cols=cons.add_cols, base_OD=base_OD) \\\n",
    "    .loop_merge(custom_merges=[]) \\\n",
    "    .append_to_reference() \\\n",
    "    .add_file_column()"
   ]
  },
  {
   "cell_type": "code",
   "execution_count": null,
   "metadata": {},
   "outputs": [],
   "source": [
    "relaxed_matches = {cols: get_match_rows(rd_test.sup_df, rd_test.ref_df, cols.split(\"-\")) \n",
    "                   for cols in rd_test.sup_df.matched_on.dropna().unique()}\n",
    "\n",
    "def get_changes(d, key): \n",
    "    df = d[key]\n",
    "    cols = key.split(\"-\")\n",
    "\n",
    "    agg_dict = {f\"{change_col}s\": (change_col, lambda x: set(x.drop_duplicates())) for change_col in df.columns \n",
    "                if change_col not in cols}\n",
    "\n",
    "    return df.groupby(['UID'] + cols) \\\n",
    "        .agg(**agg_dict)"
   ]
  },
  {
   "cell_type": "code",
   "execution_count": null,
   "metadata": {},
   "outputs": [],
   "source": [
    "for key in relaxed_matches.keys():\n",
    "    print(f\"{key}: {relaxed_matches[key].UID.nunique()} matches\")"
   ]
  }
 ],
 "metadata": {
  "kernelspec": {
   "display_name": "cpdp",
   "language": "python",
   "name": "cpdp"
  },
  "language_info": {
   "codemirror_mode": {
    "name": "ipython",
    "version": 3
   },
   "file_extension": ".py",
   "mimetype": "text/x-python",
   "name": "python",
   "nbconvert_exporter": "python",
   "pygments_lexer": "ipython3",
   "version": "3.7.12"
  },
  "orig_nbformat": 4
 },
 "nbformat": 4,
 "nbformat_minor": 2
}
