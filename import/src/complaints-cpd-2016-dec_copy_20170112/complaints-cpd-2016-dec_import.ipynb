{
 "cells": [
  {
   "cell_type": "code",
   "execution_count": 1,
   "metadata": {
    "collapsed": true
   },
   "outputs": [],
   "source": [
    "import re\n",
    "import datetime\n",
    "import numpy as np\n",
    "import pandas as pd \n",
    "import os\n",
    "import sys"
   ]
  },
  {
   "cell_type": "code",
   "execution_count": 2,
   "metadata": {
    "collapsed": true
   },
   "outputs": [],
   "source": [
    "module_path = os.path.abspath(os.path.join('..'))\n",
    "if module_path not in sys.path:\n",
    "    sys.path.append(module_path)\n",
    "from utils.utils import *"
   ]
  },
  {
   "cell_type": "markdown",
   "metadata": {},
   "source": [
    "### Establishes General Path"
   ]
  },
  {
   "cell_type": "code",
   "execution_count": 3,
   "metadata": {
    "collapsed": false
   },
   "outputs": [],
   "source": [
    "local_path = \"/your/path/here\""
   ]
  },
  {
   "cell_type": "code",
   "execution_count": 4,
   "metadata": {
    "collapsed": false
   },
   "outputs": [
    {
     "data": {
      "text/plain": [
       "['complaints-merged-2015_copy_20170112',\n",
       " 'complaints-cpd-2016-dec_copy_20170112',\n",
       " 'complaints-cpd-2016-jun_copy_20170112',\n",
       " 'complaints-cpd-2016-nov_copy_20170112',\n",
       " 'complaints-cpd-2016-oct_copy_20170112',\n",
       " 'complaints-ipra-2016-apr_copy_20170112',\n",
       " 'shootings-cpd-feb2016_copy_20170112',\n",
       " 'shootings-ipra-may2016_copy_20170112',\n",
       " 'TRRs']"
      ]
     },
     "execution_count": 4,
     "metadata": {},
     "output_type": "execute_result"
    }
   ],
   "source": [
    "path = '/Data/chicago-police-data/import'\n",
    "db = dropbox_handler()\n",
    "db.list_files(path+'/input')"
   ]
  },
  {
   "cell_type": "code",
   "execution_count": 19,
   "metadata": {
    "collapsed": false
   },
   "outputs": [],
   "source": [
    "in_path = path + '/input/complaints-cpd-2016-dec/'\n",
    "out_path = local_path + '/output/complaints-cpd-2016-dec/'"
   ]
  },
  {
   "cell_type": "code",
   "execution_count": 20,
   "metadata": {
    "collapsed": false
   },
   "outputs": [
    {
     "name": "stdout",
     "output_type": "stream",
     "text": [
      "/Data/chicago-police-data/import/doc/location_code_dictionary.csv\n"
     ]
    }
   ],
   "source": [
    "location_code = db.download_file(path+'/doc/','Location_Code_Dictionary.csv')\n",
    "location_code.dropna(how='all', inplace=True)\n",
    "location_code['Location_Code']=location_code['Location_Code'].astype(int).astype(str)\n",
    "\n",
    "def padding(value):\n",
    "    if len(value)<2:\n",
    "        return \"0\"+value\n",
    "    else:\n",
    "        return value\n",
    "    \n",
    "location_code['Location_Code'] = location_code['Location_Code'].apply(padding)"
   ]
  },
  {
   "cell_type": "markdown",
   "metadata": {},
   "source": [
    "## Dec 2016 Data"
   ]
  },
  {
   "cell_type": "markdown",
   "metadata": {},
   "source": [
    "### Report 1"
   ]
  },
  {
   "cell_type": "code",
   "execution_count": 21,
   "metadata": {
    "collapsed": false
   },
   "outputs": [
    {
     "data": {
      "text/plain": [
       "['MAINFRAME_COMPLAINTS_REVISED_30NOV2016.CSV',\n",
       " 'NEW WITNESS FILE NOV 29 2016 - no emp number.csv']"
      ]
     },
     "execution_count": 21,
     "metadata": {},
     "output_type": "execute_result"
    }
   ],
   "source": [
    "in_path_dec_2016_report = in_path\n",
    "out_path_dec_2016_report = out_path\n",
    "\n",
    "files = db.list_files(in_path_dec_2016_report)\n",
    "files"
   ]
  },
  {
   "cell_type": "code",
   "execution_count": 22,
   "metadata": {
    "collapsed": false
   },
   "outputs": [
    {
     "data": {
      "text/plain": [
       "['MAINFRAME_COMPLAINTS_REVISED_30NOV2016',\n",
       " 'NEW_WITNESS_FILE_NOV_29_2016_-_no_emp_number']"
      ]
     },
     "execution_count": 22,
     "metadata": {},
     "output_type": "execute_result"
    }
   ],
   "source": [
    "saving_files = [file.replace(\" \",\"_\").replace(\".csv\",\"\").replace(\".CSV\",\"\") for file in files]\n",
    "saving_files"
   ]
  },
  {
   "cell_type": "markdown",
   "metadata": {},
   "source": [
    "IS Investigation Unit Equivalent to Investigator_Assignment?"
   ]
  },
  {
   "cell_type": "code",
   "execution_count": 13,
   "metadata": {
    "collapsed": false
   },
   "outputs": [
    {
     "name": "stdout",
     "output_type": "stream",
     "text": [
      "/Data/chicago-police-data/import/input/complaints-cpd-2016-dec_copy_20170112/mainframe_complaints_revised_30nov2016.csv\n"
     ]
    },
    {
     "name": "stderr",
     "output_type": "stream",
     "text": [
      "/Users/thudson/anaconda/envs/civis-model/lib/python3.5/site-packages/IPython/core/interactiveshell.py:2821: DtypeWarning: Columns (2,8,11,15,17) have mixed types. Specify dtype option on import or set low_memory=False.\n",
      "  if self.run_code(code, result):\n"
     ]
    }
   ],
   "source": [
    "file=files[1]\n",
    "final_df = pd.DataFrame()\n",
    "metadata_df = pd.DataFrame()\n",
    "##df = pd.read_csv(in_path_dec_2016_report + file)\n",
    "df = db.download_file(in_path_dec_2016_report,file)\n",
    "\n",
    "df.columns = [\"CRID\",\"Incident_Date\",\"Incident_Time\",\"Complaint_Date\",\n",
    "                  \"Case_Status\",\"Closed_Date\",\"Investigator_Full_Name\", \n",
    "                  \"Investigator_Assignment\",\"Beat\",\n",
    "               \"Address_of_Incident\", \"Accused\",\"Star\",\"Accused_Gender\",\n",
    "              \"Accused_Birth_Year\",\"Accused_Appointed_Date\",\"Current_Unit\",\"Final_Complaint_Category\"\n",
    "              ,\"Current_Rank\",\"Complaint_Description\",\"Final_Finding\",\"Final_Finding_Description\"\n",
    "             , \"Final_Action_Taken\",\"Final_Action_Description\"]\n",
    "\n",
    "final_df = final_df.append(df)\n",
    "final_df.reset_index(drop=True,inplace=True)\n",
    "metadata_df = metadata_df.append(metadata_dataset(df,file))\n",
    "metadata_df.reset_index(drop=True,inplace=True)"
   ]
  },
  {
   "cell_type": "code",
   "execution_count": 16,
   "metadata": {
    "collapsed": false
   },
   "outputs": [
    {
     "data": {
      "text/plain": [
       "['CRID',\n",
       " 'Incident_Date',\n",
       " 'Incident_Time',\n",
       " 'Complaint_Date',\n",
       " 'Case_Status',\n",
       " 'Closed_Date',\n",
       " 'Investigator_Full_Name',\n",
       " 'Investigator_Assignment',\n",
       " 'Beat',\n",
       " 'Address_of_Incident',\n",
       " 'Accused',\n",
       " 'Star',\n",
       " 'Accused_Gender',\n",
       " 'Accused_Birth_Year',\n",
       " 'Accused_Appointed_Date',\n",
       " 'Current_Unit',\n",
       " 'Final_Complaint_Category',\n",
       " 'Current_Rank',\n",
       " 'Complaint_Description',\n",
       " 'Final_Finding',\n",
       " 'Final_Finding_Description',\n",
       " 'Final_Action_Taken',\n",
       " 'Final_Action_Description']"
      ]
     },
     "execution_count": 16,
     "metadata": {},
     "output_type": "execute_result"
    }
   ],
   "source": [
    "df.columns.tolist()"
   ]
  },
  {
   "cell_type": "code",
   "execution_count": null,
   "metadata": {
    "collapsed": false
   },
   "outputs": [],
   "source": [
    "final_df.to_csv(out_path_dec_2016_report+saving_files[0]+\".csv\",index=False)\n",
    "final_df.to_excel(out_path_dec_2016_report+saving_files[0]+\".xlsx\",index=False)\n",
    "\n",
    "metadata_df.to_csv(out_path_dec_2016_report+saving_files[0]+\"_metadata.csv\",index=False)"
   ]
  },
  {
   "cell_type": "markdown",
   "metadata": {},
   "source": [
    "### Report 2"
   ]
  },
  {
   "cell_type": "code",
   "execution_count": 17,
   "metadata": {
    "collapsed": false
   },
   "outputs": [
    {
     "name": "stdout",
     "output_type": "stream",
     "text": [
      "/Data/chicago-police-data/import/input/complaints-cpd-2016-dec_copy_20170112/new witness file nov 29 2016 - no emp number.csv\n",
      "  CASE NUMBER OFFICER OR NON OFFICER OFFICER LAST NAME OFFICER FIRST NAME  \\\n",
      "0     C052094    COMPLAINING_WITNESS               NaN                NaN   \n",
      "1     C093392        OFFICER_WITNESS         BURZINSKI             WALTER   \n",
      "2     C093392        OFFICER_WITNESS            SHAFER            CHARLES   \n",
      "3     C100256    COMPLAINING_WITNESS               NaN                NaN   \n",
      "4     C100256    COMPLAINING_WITNESS               NaN                NaN   \n",
      "\n",
      "   OFFICER STAR NUMBER  SEX YEAR OF BIRTH RACE  \n",
      "0                  NaN    M          1988    X  \n",
      "1              13037.0  NaN           NaN  NaN  \n",
      "2               7288.0  NaN           NaN  NaN  \n",
      "3                  NaN    F          1946    S  \n",
      "4                  NaN    M          1958    S  \n"
     ]
    }
   ],
   "source": [
    "file=files[0]\n",
    "final_df = pd.DataFrame()\n",
    "metadata_df = pd.DataFrame()\n",
    "##df = pd.read_csv(in_path_dec_2016_report + file)\n",
    "df = db.download_file(in_path_dec_2016_report,file)\n",
    "print(df.head())\n",
    "df.columns = [\"CRID\",\"Officer_Witness_or_Witness\",\"Officer_Last_Name\",\"Officer_First_Name\",\n",
    "                  \"Star\",\"Officer_Gender\",\"Officer_Birth_Year\",\"Officer_Race\"]\n",
    "\n",
    "final_df = final_df.append(df)\n",
    "final_df.reset_index(drop=True,inplace=True)\n",
    "metadata_df = metadata_df.append(metadata_dataset(df,file))\n",
    "metadata_df.reset_index(drop=True,inplace=True)"
   ]
  },
  {
   "cell_type": "code",
   "execution_count": 18,
   "metadata": {
    "collapsed": false
   },
   "outputs": [
    {
     "data": {
      "text/plain": [
       "['CRID',\n",
       " 'Officer_Witness_or_Witness',\n",
       " 'Officer_Last_Name',\n",
       " 'Officer_First_Name',\n",
       " 'Star',\n",
       " 'Officer_Gender',\n",
       " 'Officer_Birth_Year',\n",
       " 'Officer_Race']"
      ]
     },
     "execution_count": 18,
     "metadata": {},
     "output_type": "execute_result"
    }
   ],
   "source": [
    "df.columns.tolist()"
   ]
  },
  {
   "cell_type": "code",
   "execution_count": null,
   "metadata": {
    "collapsed": false
   },
   "outputs": [],
   "source": [
    "final_df.to_csv(out_path_dec_2016_report+saving_files[1]+\".csv\",index=False)\n",
    "final_df.to_excel(out_path_dec_2016_report+saving_files[1]+\".xlsx\",index=False)\n",
    "\n",
    "metadata_df.to_csv(out_path_dec_2016_report+saving_files[1]+\"_metadata.csv\",index=False)"
   ]
  }
 ],
 "metadata": {
  "anaconda-cloud": {},
  "kernelspec": {
   "display_name": "Civis Model",
   "language": "python",
   "name": "civis-model"
  },
  "language_info": {
   "codemirror_mode": {
    "name": "ipython",
    "version": 3
   },
   "file_extension": ".py",
   "mimetype": "text/x-python",
   "name": "python",
   "nbconvert_exporter": "python",
   "pygments_lexer": "ipython3",
   "version": "3.5.2"
  }
 },
 "nbformat": 4,
 "nbformat_minor": 0
}
