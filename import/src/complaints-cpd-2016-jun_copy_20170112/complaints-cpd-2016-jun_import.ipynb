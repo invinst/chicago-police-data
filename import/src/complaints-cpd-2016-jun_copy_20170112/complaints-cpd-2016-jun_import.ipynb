{
 "cells": [
  {
   "cell_type": "code",
   "execution_count": 2,
   "metadata": {
    "collapsed": true
   },
   "outputs": [],
   "source": [
    "import re\n",
    "import numpy as np\n",
    "import pandas as pd \n",
    "import os\n",
    "import sys\n",
    "import itertools\n",
    "import io\n",
    "import datetime"
   ]
  },
  {
   "cell_type": "code",
   "execution_count": 3,
   "metadata": {
    "collapsed": true
   },
   "outputs": [],
   "source": [
    "module_path = os.path.abspath(os.path.join('..'))\n",
    "if module_path not in sys.path:\n",
    "    sys.path.append(module_path)\n",
    "from utils.utils import *"
   ]
  },
  {
   "cell_type": "markdown",
   "metadata": {},
   "source": [
    "### Establishes General Path"
   ]
  },
  {
   "cell_type": "code",
   "execution_count": 4,
   "metadata": {
    "collapsed": false
   },
   "outputs": [],
   "source": [
    "local_path = \"/your/path/here\""
   ]
  },
  {
   "cell_type": "code",
   "execution_count": 5,
   "metadata": {
    "collapsed": false
   },
   "outputs": [
    {
     "data": {
      "text/plain": [
       "['TRRs',\n",
       " 'complaints-cpd-2016-dec',\n",
       " 'complaints-cpd-2016-jun',\n",
       " 'complaints-cpd-2016-nov',\n",
       " 'complaints-cpd-2016-oct',\n",
       " 'complaints-ipra-2016-apr',\n",
       " 'complaints-merged-2015',\n",
       " 'shootings-cpd-feb2016',\n",
       " 'shootings-ipra-may2016']"
      ]
     },
     "execution_count": 5,
     "metadata": {},
     "output_type": "execute_result"
    }
   ],
   "source": [
    "path = '/Data/chicago-police-data/import'\n",
    "db = dropbox_handler()\n",
    "db.list_files(path+'/input')"
   ]
  },
  {
   "cell_type": "code",
   "execution_count": 6,
   "metadata": {
    "collapsed": false
   },
   "outputs": [],
   "source": [
    "in_path = path + '/input/complaints-cpd-2016-jun'\n",
    "out_path =path + '/output/complaints-cpd-2016-jun'"
   ]
  },
  {
   "cell_type": "code",
   "execution_count": 7,
   "metadata": {
    "collapsed": false
   },
   "outputs": [
    {
     "name": "stdout",
     "output_type": "stream",
     "text": [
      "/Data/chicago-police-data/import/doc/location_code_dictionary.csv\n"
     ]
    }
   ],
   "source": [
    "location_code = db.download_file(path+'/doc/','Location_Code_Dictionary.csv')\n",
    "location_code.dropna(how='all', inplace=True)\n",
    "location_code['Location_Code']=location_code['Location_Code'].astype(int).astype(str)\n",
    "\n",
    "def padding(value):\n",
    "    if len(value)<2:\n",
    "        return \"0\"+value\n",
    "    else:\n",
    "        return value\n",
    "    \n",
    "location_code['Location_Code'] = location_code['Location_Code'].apply(padding)"
   ]
  },
  {
   "cell_type": "markdown",
   "metadata": {},
   "source": [
    "## June 2016 Data"
   ]
  },
  {
   "cell_type": "markdown",
   "metadata": {},
   "source": [
    "### Report 1"
   ]
  },
  {
   "cell_type": "code",
   "execution_count": 8,
   "metadata": {
    "collapsed": false
   },
   "outputs": [
    {
     "data": {
      "text/plain": [
       "['P046957 - report 1 - all complaints in time frame-unlocked.xlsx',\n",
       " 'P046957 - report 2 - identified accused xi-unlocked.xlsx',\n",
       " 'P046957 - report 3 - police officer witness data xi-unlocked.xlsx',\n",
       " 'P046957 - report 4 - victim data-unlocked.xlsx',\n",
       " 'P046957 - report 5 - complainant (reporting party) data-unlocked.xlsx']"
      ]
     },
     "execution_count": 8,
     "metadata": {},
     "output_type": "execute_result"
    }
   ],
   "source": [
    "in_path_june_2016_report = in_path\n",
    "out_path_june_2016_report = local_path\n",
    "\n",
    "files = [file for file in db.list_files(in_path_june_2016_report) if 'unlocked' in file and '~$' not in file]\n",
    "files"
   ]
  },
  {
   "cell_type": "code",
   "execution_count": 9,
   "metadata": {
    "collapsed": false
   },
   "outputs": [
    {
     "data": {
      "text/plain": [
       "['P046957_-_report_1_-_all_complaints_in_time_frame-unlocked',\n",
       " 'P046957_-_report_2_-_identified_accused_xi-unlocked',\n",
       " 'P046957_-_report_3_-_police_officer_witness_data_xi-unlocked',\n",
       " 'P046957_-_report_4_-_victim_data-unlocked',\n",
       " 'P046957_-_report_5_-_complainant_(reporting_party)_data-unlocked']"
      ]
     },
     "execution_count": 9,
     "metadata": {},
     "output_type": "execute_result"
    }
   ],
   "source": [
    "saving_files = [file.replace(\" \",\"_\").replace(\".xlsx\",\"\") for file in files]\n",
    "saving_files"
   ]
  },
  {
   "cell_type": "code",
   "execution_count": 10,
   "metadata": {
    "collapsed": false
   },
   "outputs": [
    {
     "name": "stdout",
     "output_type": "stream",
     "text": [
      "/Data/chicago-police-data/import/input/complaints-cpd-2016-jun/p046957 - report 1 - all complaints in time frame-unlocked.xlsx\n",
      "/Data/chicago-police-data/import/input/complaints-cpd-2016-jun/p046957 - report 1 - all complaints in time frame-unlocked.xlsx\n",
      "    Number:                                           Beat:  Location Code:  \\\n",
      "0  106213.0                                            1631              17   \n",
      "1       NaN  Investigator with Current Assignment and Rank:  KLIMAS, ROBERT   \n",
      "2       NaN                                             NaN   end of record   \n",
      "3  107899.0                                            0611              17   \n",
      "5       NaN                                             NaN   end of record   \n",
      "\n",
      "  Address of Incident:       Unnamed: 4 Unnamed: 5           Unnamed: 6  \\\n",
      "0                 3700     N HARLEM AVE        NaN     CHICAGO IL 60634   \n",
      "1                  121        COMMANDER          0  2008-08-04 00:00:00   \n",
      "2                  NaN              NaN        NaN                  NaN   \n",
      "3                 7843  S HERMITAGE AVE        NaN      CHICAGO IL 6062   \n",
      "5                  NaN              NaN        NaN                  NaN   \n",
      "\n",
      "  Incident Date & Time Complaint Date Closed Date  Unnamed: 10  Unnamed: 11  \\\n",
      "0  2015-07-19 21:00:00     2015-07-20  2015-09-21          NaN          NaN   \n",
      "1                  NaT            NaT         NaT          NaN          NaN   \n",
      "2                  NaT            NaT         NaT          NaN          NaN   \n",
      "3  2015-08-16 20:20:00     2016-01-25         NaT          NaN          NaN   \n",
      "5                  NaT            NaT         NaT          NaN          NaN   \n",
      "\n",
      "   Unnamed: 12  \n",
      "0          NaN  \n",
      "1          NaN  \n",
      "2          NaN  \n",
      "3          NaN  \n",
      "5          NaN  \n"
     ]
    }
   ],
   "source": [
    "file = files[0]\n",
    "##df = pd.read_excel(in_path_june_2016_report + file,nrows=20,engine=None)\n",
    "df = db.download_file(in_path_june_2016_report,file,rows=20)\n",
    "## Making Sure Every File contains date the file was created and the foia that created it\n",
    "col_list = df.columns.tolist()\n",
    "Report_Produced_Date = [x for x in col_list if isinstance(x, datetime.datetime)]\n",
    "col_list = [x for x in col_list if isinstance(x, datetime.datetime)==False]\n",
    "FOIA_Request = [x for x in col_list if 'FOIA' in x][0]\n",
    "# +1 because of python indexing, +1 because of header in first df\n",
    "skip = np.where(df.iloc[:,0]==\"Number:\")[0][0]+1\n",
    "##df = pd.read_excel(in_path_june_2016_report + file, skiprows=skip)\n",
    "df = db.download_file(in_path_june_2016_report,file,skip=skip)\n",
    "df.dropna(how='all', inplace=True)\n",
    "## remove end of record rows and page number row\n",
    "df = df.dropna(subset=[\"Number:\",\"Beat:\",\"Location Code:\",\"Address of Incident:\",\"Unnamed: 6\"\n",
    "                 ,\"Complaint Date\",\"Closed Date\",\"Unnamed: 11\"],how=\"all\",axis=0)\n",
    "\n",
    "print(df.head())\n",
    "## Need to move Investigator Name to Col 12\n",
    "df['Number:'].fillna(method='ffill', inplace=True)\n",
    "df['Number:'] = df['Number:'].astype(int)\n",
    "## Investigator Rows have all others as null\n",
    "df1 = df[ \n",
    "   df[\"Incident Date & Time\"].isnull() & \n",
    "   df[\"Complaint Date\"].isnull() &\n",
    "   df[\"Closed Date\"].isnull()]\n",
    "\n",
    "df1 = null_dropper(df1)\n",
    "df1 = df1[df1[\"Location Code:\"]!='end of record']\n",
    "df1 = df1[[\"Number:\",\"Location Code:\",\"Address of Incident:\",\"Unnamed: 4\",\"Unnamed: 5\",\"Unnamed: 6\"]]\n",
    "df1.columns = [\"Number:\",\"Investigator_Full_Name\",\"Investigator_Assignment\",\"Investigator_Rank\",\n",
    "               \"Investigator_Star\",\"Investigator_Appt_Date\"]\n",
    "\n",
    "df2 = df.merge(df1,how=\"left\",on=\"Number:\")\n",
    "## check dtypes to figure out which matter\n",
    "df2 = df2.dropna(subset=[\"Incident Date & Time\",\"Complaint Date\",\"Closed Date\"],how=\"all\",axis=0)\n",
    "## Replace ---- with empty strings\n",
    "df2 = df2.replace('----', \"\").replace('-----', \"\")\n",
    "## Drop all null columns\n",
    "df2 = null_dropper(df2)\n",
    "\n",
    "## Covert Address Columns into single column\n",
    "df2[\"Address of Incident:\"] = df2['Address of Incident:'].astype(str)\n",
    "df2[\"Unnamed: 4\"] = df2['Unnamed: 4'].astype(str)\n",
    "df2[\"Unnamed: 5\"] = df2['Unnamed: 5'].astype(str)\n",
    "df2[\"Unnamed: 6\"] = df2['Unnamed: 6'].astype(str)\n",
    "\n",
    "df2[\"Unnamed: 4\"] = df2[\"Unnamed: 4\"].replace(\"nan\",\"\")\n",
    "df2[\"Unnamed: 5\"] = df2['Unnamed: 5'].replace(\"nan\",\"\")\n",
    "\n",
    "df2[\"Address of Incident:\"] = df2[[\"Address of Incident:\",\"Unnamed: 4\", \"Unnamed: 5\"]].apply(lambda x: ' '.join(x), axis=1)\n",
    "\n",
    "df2 = df2[[\"Number:\",\"Beat:\",\"Location Code:\",\"Address of Incident:\",\"Unnamed: 6\",\n",
    "           \"Incident Date & Time\", \"Complaint Date\", \"Closed Date\",\"Investigator_Full_Name\",\n",
    "          \"Investigator_Assignment\",\"Investigator_Rank\",\"Investigator_Star\",\"Investigator_Appt_Date\"]]\n",
    "\n",
    "df2.columns = [\"CRID\",\"Beat\",\"Location_Code\",\"Address_of_Incident\",\n",
    "                  \"City_State_Zip\",\"Incident_Date\",\"Complaint_Date\", \n",
    "                  \"Closed_Date\",\"Investigator_Full_Name\",\n",
    "               \"Investigator_Assignment\",\"Investigator_Rank\",\"Investigator_Star\",\"Investigator_Appt_Date\"]\n",
    "\n",
    "## Splitting City State Zip into three columns\n",
    "city_state_zip = city_state_zip_splitter(df2)\n",
    "df2.reset_index(drop=True, inplace=True)\n",
    "df2 = df2.merge(city_state_zip,how='left',right_index=True,left_index=True)\n",
    "## Appending Location Type\n",
    "df2 = df2.merge(location_code,how='left',on='Location_Code')\n",
    "df2 = df2 [[\"CRID\",\"Beat\",\"Location_Code\",\"Location_Value\",\"Address_of_Incident\",\n",
    "                  \"City\",\"State\",\"Zip\",\"Incident_Date\",\"Complaint_Date\", \n",
    "                  \"Closed_Date\",\"Investigator_Full_Name\",\n",
    "               \"Investigator_Assignment\",\"Investigator_Rank\",\"Investigator_Star\",\"Investigator_Appt_Date\"]]\n",
    "\n",
    "## Adding File Metadata\n",
    "df2[\"FOIA_Request_Number\"]=FOIA_Request\n",
    "try:\n",
    "    df2[\"Report_Produced_Date\"]=Report_Produced_Date.date()\n",
    "except:\n",
    "    df2[\"Report_Produced_Date\"]=''    \n",
    "\n",
    "final_df = df2\n",
    "final_df.reset_index(drop=True,inplace=True)\n",
    "metadata_df = metadata_dataset(final_df,file)\n",
    "metadata_df.reset_index(drop=True,inplace=True)"
   ]
  },
  {
   "cell_type": "code",
   "execution_count": 11,
   "metadata": {
    "collapsed": false
   },
   "outputs": [
    {
     "data": {
      "text/plain": [
       "['CRID',\n",
       " 'Beat',\n",
       " 'Location_Code',\n",
       " 'Location_Value',\n",
       " 'Address_of_Incident',\n",
       " 'City',\n",
       " 'State',\n",
       " 'Zip',\n",
       " 'Incident_Date',\n",
       " 'Complaint_Date',\n",
       " 'Closed_Date',\n",
       " 'Investigator_Full_Name',\n",
       " 'Investigator_Assignment',\n",
       " 'Investigator_Rank',\n",
       " 'Investigator_Star',\n",
       " 'Investigator_Appt_Date',\n",
       " 'FOIA_Request_Number',\n",
       " 'Report_Produced_Date']"
      ]
     },
     "execution_count": 11,
     "metadata": {},
     "output_type": "execute_result"
    }
   ],
   "source": [
    "final_df.columns.tolist()"
   ]
  },
  {
   "cell_type": "code",
   "execution_count": null,
   "metadata": {
    "collapsed": false
   },
   "outputs": [],
   "source": [
    "final_df.to_csv(out_path_june_2016_report+\"P046957_-_report_1_-_all_complaints_in_time_frame-unlocked.csv\",index=False)\n",
    "final_df.to_excel(out_path_june_2016_report+\"P046957_-_report_1_-_all_complaints_in_time_frame-unlocked.xlsx\",index=False)\n",
    "\n",
    "metadata_df.to_csv(out_path_june_2016_report+\"P046957_-_report_1_-_all_complaints_in_time_frame-unlocked_metadata.csv\",index=False)"
   ]
  },
  {
   "cell_type": "markdown",
   "metadata": {},
   "source": [
    "### Report 2"
   ]
  },
  {
   "cell_type": "code",
   "execution_count": 12,
   "metadata": {
    "collapsed": false
   },
   "outputs": [
    {
     "data": {
      "text/plain": [
       "['P046957 - report 1 - all complaints in time frame-unlocked.xlsx',\n",
       " 'P046957 - report 2 - identified accused xi-unlocked.xlsx',\n",
       " 'P046957 - report 3 - police officer witness data xi-unlocked.xlsx',\n",
       " 'P046957 - report 4 - victim data-unlocked.xlsx',\n",
       " 'P046957 - report 5 - complainant (reporting party) data-unlocked.xlsx']"
      ]
     },
     "execution_count": 12,
     "metadata": {},
     "output_type": "execute_result"
    }
   ],
   "source": [
    "files = [file for file in  db.list_files(in_path_june_2016_report) if 'unlocked' in file and '~$' not in file]\n",
    "files"
   ]
  },
  {
   "cell_type": "code",
   "execution_count": 13,
   "metadata": {
    "collapsed": false
   },
   "outputs": [
    {
     "name": "stdout",
     "output_type": "stream",
     "text": [
      "/Data/Import/input/complaints-cpd-2016-jun/p046957 - report 2 - identified accused xi-unlocked.xlsx\n",
      "/Data/Import/input/complaints-cpd-2016-jun/p046957 - report 2 - identified accused xi-unlocked.xlsx\n",
      "   Number:         Accused: Birth Yr: Gender: Race Code: Date of Appt:  \\\n",
      "1   107901  GONZALES, ROBIN      1981       F          S    2008-04-28   \n",
      "4   108026     BECKER, JOHN      1970       M        WHI    2000-01-24   \n",
      "5   108026    MARKHAM, SEAN      1971       M          I    2000-06-19   \n",
      "8  1038595      WELLS, OTIS      1967       M        BLK    2007-04-02   \n",
      "9  1038595  MCCLAY, CHARLES      1983       M        BLK    2007-10-29   \n",
      "\n",
      "   Current Unit: Current Rank:    Star: Complaint Category  \\\n",
      "1           18.0            PO   5137.0                NaN   \n",
      "4           17.0            PO   4734.0                NaN   \n",
      "5           17.0            PO  19054.0                NaN   \n",
      "8            6.0            PO   5385.0      05D-NO ARREST   \n",
      "9            3.0            PO   4735.0      05D-NO ARREST   \n",
      "\n",
      "  Finding &\\nRecommended Discipline  Unnamed: 11 Final Finding & \\nDiscipline  \\\n",
      "1                               NaN          NaN                          NaN   \n",
      "4                               NaN          NaN                          NaN   \n",
      "5                               NaN          NaN                          NaN   \n",
      "8                                EX        600.0                           EX   \n",
      "9                                EX        600.0                           EX   \n",
      "\n",
      "   Unnamed: 13  \n",
      "1          NaN  \n",
      "4          NaN  \n",
      "5          NaN  \n",
      "8        600.0  \n",
      "9        600.0  \n"
     ]
    }
   ],
   "source": [
    "final_df = pd.DataFrame()\n",
    "metadata_df = pd.DataFrame()\n",
    "file = files[1]\n",
    "#df = pd.read_excel(in_path_june_2016_report2 + file,nrows=20)\n",
    "df = db.download_file(in_path_june_2016_report,file,rows=20)\n",
    "col_list = df.columns.tolist()\n",
    "Report_Produced_Date = [x for x in col_list if isinstance(x, datetime.datetime)]\n",
    "col_list = [x for x in col_list if isinstance(x, datetime.datetime)==False]\n",
    "FOIA_Request = [x for x in col_list if 'FOIA' in x][0]\n",
    "# +1 because of python indexing, +1 because of header in first df\n",
    "skip = np.where(df.iloc[:,0]==\"Number:\")[0][0]+1\n",
    "#df = pd.read_excel(in_path_june_2016_report2 + file, skiprows=skip)\n",
    "df = db.download_file(in_path_june_2016_report,file,skip=skip)\n",
    "df.dropna(how='all', inplace=True)\n",
    "\n",
    "## Remove leading and trailing whitespace from columns \n",
    "df.columns = [col.strip() for col in df.columns.tolist()]\n",
    "\n",
    "## Need to fill in Number\n",
    "df['Number:'].fillna(method='ffill', inplace=True)\n",
    "df['Number:'] = df['Number:'].astype(int)\n",
    "\n",
    "## Drops end of record \n",
    "df = df.dropna(subset=[\"Accused:\",\"Gender:\",\"Date of Appt:\",\"Star:\"],how=\"all\",axis=0)\n",
    "\n",
    "## drops the significant number of columns that are all nulls\n",
    "df = null_dropper(df)\n",
    "print(df.head())\n",
    "df.columns = [\"CRID\",\"Accused\",\"Accused_Birth_Year\",\"Accused_Gender\",\"Accused_Race_Code\",\"Date_of_Appt\",\"Current_Unit\",\n",
    "              \"Current_Rank\",\"Star\",\"Complaint_Category\",\"Orig_Finding\",\"Orig_Recommended_Discipline\",\"Final_Finding\",\n",
    "             \"Final_Recommended_Discipline\"]\n",
    "\n",
    "## Excel reads NA as null for Orig and Final Finding, this returns it to NA status when discipline is not null\n",
    "df[\"Orig_Finding\"] = df['Orig_Finding'].astype(str)\n",
    "df[\"Orig_Finding\"] =np.where((df[\"Orig_Finding\"]=='nan') & (~df[\"Orig_Recommended_Discipline\"].isnull()),\n",
    "                             \"NA\",\n",
    "                             df[\"Orig_Finding\"])\n",
    "\n",
    "df[\"Final_Finding\"] = df['Final_Finding'].astype(str)\n",
    "df[\"Final_Finding\"] = np.where((df[\"Final_Finding\"]=='nan') & (~df[\"Final_Recommended_Discipline\"].isnull()),\n",
    "                             \"NA\",\n",
    "                             df[\"Final_Finding\"])\n",
    "\n",
    "## replace the actual nulls with blanks\n",
    "df[\"Orig_Finding\"] = np.where((df[\"Orig_Finding\"]=='nan'),\n",
    "                             \"\",\n",
    "                             df[\"Orig_Finding\"])\n",
    "df[\"Final_Finding\"] =np.where((df[\"Final_Finding\"]=='nan'),\n",
    "                             \"\",\n",
    "                             df[\"Final_Finding\"])\n",
    "\n",
    "## Adding File Metadata\n",
    "df[\"FOIA_Request_Number\"]=FOIA_Request\n",
    "try:\n",
    "    df[\"Report_Produced_Date\"]=Report_Produced_Date[0].date()\n",
    "except:\n",
    "    df[\"Report_Produced_Date\"]=''  \n",
    "\n",
    "final_df = final_df.append(df)\n",
    "final_df.reset_index(drop=True,inplace=True)\n",
    "metadata_df = metadata_df.append(metadata_dataset(df,file))\n",
    "metadata_df.reset_index(drop=True,inplace=True)"
   ]
  },
  {
   "cell_type": "code",
   "execution_count": null,
   "metadata": {
    "collapsed": false
   },
   "outputs": [],
   "source": [
    "final_df.to_csv(out_path_june_2016_report2+saving_files[1]+\".csv\",index=False)\n",
    "final_df.to_excel(out_path_june_2016_report2+saving_files[1]+\".xlsx\",index=False)\n",
    "\n",
    "metadata_df.to_csv(out_path_june_2016_report2+saving_files[1]+\"_metadata.csv\",index=False)"
   ]
  },
  {
   "cell_type": "markdown",
   "metadata": {},
   "source": [
    "### Report 3"
   ]
  },
  {
   "cell_type": "code",
   "execution_count": 14,
   "metadata": {
    "collapsed": false
   },
   "outputs": [
    {
     "data": {
      "text/plain": [
       "['P046957 - report 1 - all complaints in time frame-unlocked.xlsx',\n",
       " 'P046957 - report 2 - identified accused xi-unlocked.xlsx',\n",
       " 'P046957 - report 3 - police officer witness data xi-unlocked.xlsx',\n",
       " 'P046957 - report 4 - victim data-unlocked.xlsx',\n",
       " 'P046957 - report 5 - complainant (reporting party) data-unlocked.xlsx']"
      ]
     },
     "execution_count": 14,
     "metadata": {},
     "output_type": "execute_result"
    }
   ],
   "source": [
    "files = [file for file in  db.list_files(in_path_june_2016_report) if 'unlocked' in file and '~$' not in file]\n",
    "files"
   ]
  },
  {
   "cell_type": "code",
   "execution_count": 15,
   "metadata": {
    "collapsed": false
   },
   "outputs": [
    {
     "name": "stdout",
     "output_type": "stream",
     "text": [
      "/Data/Import/input/complaints-cpd-2016-jun/p046957 - report 3 - police officer witness data xi-unlocked.xlsx\n",
      "/Data/Import/input/complaints-cpd-2016-jun/p046957 - report 3 - police officer witness data xi-unlocked.xlsx\n",
      "            Unnamed: 0   Gender           Race   Star  Birth Year  \\\n",
      "0              Number:  1053502            NaN    NaN         NaN   \n",
      "1          HARRIS, KAL        M            BLK  14236      1974.0   \n",
      "2                  NaN      NaN  end of record    NaN         NaN   \n",
      "3              Number:  1053509            NaN    NaN         NaN   \n",
      "4  BUKOWSKIBUS, GEORGE        M            WHI  11982      1966.0   \n",
      "\n",
      "  Date Appointed  Unnamed: 6  Unnamed: 7  Unnamed: 8  Unnamed: 9  Unnamed: 10  \\\n",
      "0            NaT         NaN         NaN         NaN         NaN          NaN   \n",
      "1     2001-05-29         NaN         NaN         NaN         NaN          NaN   \n",
      "2            NaT         NaN         NaN         NaN         NaN          NaN   \n",
      "3            NaT         NaN         NaN         NaN         NaN          NaN   \n",
      "4     1996-12-02         NaN         NaN         NaN         NaN          NaN   \n",
      "\n",
      "   Unnamed: 11  \n",
      "0          NaN  \n",
      "1          NaN  \n",
      "2          NaN  \n",
      "3          NaN  \n",
      "4          NaN  \n"
     ]
    }
   ],
   "source": [
    "final_df = pd.DataFrame()\n",
    "metadata_df = pd.DataFrame()\n",
    "file = files[2]\n",
    "#df = pd.read_excel(in_path_june_2016_report3 + file,nrows=20)\n",
    "df = db.download_file(in_path_june_2016_report,file,rows=20)\n",
    "col_list = df.columns.tolist()\n",
    "Report_Produced_Date = [x for x in col_list if isinstance(x, datetime.datetime)]\n",
    "col_list = [x for x in col_list if isinstance(x, datetime.datetime)==False]\n",
    "FOIA_Request = [x for x in col_list if 'FOIA' in x][0]\n",
    "# +0 Because Number is miss-labeled\n",
    "skip = np.where(df.iloc[:,0]==\"Number:\")[0][0]\n",
    "#df = pd.read_excel(in_path_june_2016_report3 + file, skiprows=skip)\n",
    "df = db.download_file(in_path_june_2016_report,file,skip=skip)\n",
    "df.dropna(how='all', inplace=True)\n",
    "\n",
    "## Remove leading and trailing whitespace from columns \n",
    "df.columns = [col.strip() for col in df.columns.tolist()]\n",
    "print(df.head())\n",
    "## Filling Number Column\n",
    "df['CRID'] = pd.to_numeric(df[\"Gender\"],errors='coerce').fillna(method='ffill')\n",
    "df['CRID'] = df['CRID'].astype(int)\n",
    "## Drops end of record \n",
    "df = df.dropna(subset=[\"Unnamed: 0\",\"Gender\",\"Star\"],how=\"all\",axis=0)\n",
    "## Drops CRID only Row\n",
    "df = df[df[\"Gender\"]!=df[\"CRID\"].astype(str)]\n",
    "\n",
    "## drops the significant number of columns that are all nulls\n",
    "df = null_dropper(df)\n",
    "\n",
    "df.columns = [\"Officer_Witness\",\"Officer_Witness_Gender\",\"Officer_Witness_Race\",\"Officer_Witness_Star\",\n",
    "              \"Officer_Witness_Birth_Year\",\"Officer_Witness_Date_Appointed\",\"CRID\"]\n",
    "df = df[[\"CRID\",\"Officer_Witness\",\"Officer_Witness_Gender\",\"Officer_Witness_Race\",\"Officer_Witness_Star\",\n",
    "        \"Officer_Witness_Birth_Year\",\"Officer_Witness_Date_Appointed\"]]\n",
    "\n",
    "\n",
    "## Adding File Metadata\n",
    "df[\"FOIA_Request_Number\"]=FOIA_Request\n",
    "try:\n",
    "    df[\"Report_Produced_Date\"]=Report_Produced_Date[0].date()\n",
    "except:\n",
    "    df[\"Report_Produced_Date\"]=''  \n",
    "\n",
    "final_df = final_df.append(df)\n",
    "final_df.reset_index(drop=True,inplace=True)\n",
    "metadata_df = metadata_df.append(metadata_dataset(df,file))\n",
    "metadata_df.reset_index(drop=True,inplace=True)"
   ]
  },
  {
   "cell_type": "code",
   "execution_count": null,
   "metadata": {
    "collapsed": false
   },
   "outputs": [],
   "source": [
    "final_df.to_csv(out_path_june_2016_report3+saving_files[2]+\".csv\",index=False)\n",
    "final_df.to_excel(out_path_june_2016_report3+saving_files[2]+\".xlsx\",index=False)\n",
    "\n",
    "metadata_df.to_csv(out_path_june_2016_report3+saving_files[2]+\"_metadata.csv\",index=False)"
   ]
  },
  {
   "cell_type": "markdown",
   "metadata": {},
   "source": [
    "### Report 4"
   ]
  },
  {
   "cell_type": "code",
   "execution_count": 16,
   "metadata": {
    "collapsed": false
   },
   "outputs": [
    {
     "data": {
      "text/plain": [
       "['P046957 - report 1 - all complaints in time frame-unlocked.xlsx',\n",
       " 'P046957 - report 2 - identified accused xi-unlocked.xlsx',\n",
       " 'P046957 - report 3 - police officer witness data xi-unlocked.xlsx',\n",
       " 'P046957 - report 4 - victim data-unlocked.xlsx',\n",
       " 'P046957 - report 5 - complainant (reporting party) data-unlocked.xlsx']"
      ]
     },
     "execution_count": 16,
     "metadata": {},
     "output_type": "execute_result"
    }
   ],
   "source": [
    "files = [file for file in  db.list_files(in_path_june_2016_report) if 'unlocked' in file and '~$' not in file]\n",
    "files"
   ]
  },
  {
   "cell_type": "code",
   "execution_count": 17,
   "metadata": {
    "collapsed": false
   },
   "outputs": [
    {
     "name": "stdout",
     "output_type": "stream",
     "text": [
      "/Data/Import/input/complaints-cpd-2016-jun/p046957 - report 4 - victim data-unlocked.xlsx\n",
      "/Data/Import/input/complaints-cpd-2016-jun/p046957 - report 4 - victim data-unlocked.xlsx\n",
      "      Number  Unnamed: 1 Gender        Age  Unnamed: 4      Race Desc  \\\n",
      "0  1039179.0         NaN    NaN        NaN         NaN            NaN   \n",
      "1        NaN         NaN      F  25.832877         NaN          BLACK   \n",
      "2        NaN         NaN      M  38.000000         NaN          BLACK   \n",
      "3        NaN         NaN    NaN        NaN         NaN  end of record   \n",
      "4  1053502.0         NaN    NaN        NaN         NaN            NaN   \n",
      "\n",
      "   Unnamed: 6  Unnamed: 7  Unnamed: 8  Unnamed: 9  Unnamed: 10  Unnamed: 11  \\\n",
      "0         NaN         NaN         NaN         NaN          NaN          NaN   \n",
      "1         NaN         NaN         NaN         NaN          NaN          NaN   \n",
      "2         NaN         NaN         NaN         NaN          NaN          NaN   \n",
      "3         NaN         NaN         NaN         NaN          NaN          NaN   \n",
      "4         NaN         NaN         NaN         NaN          NaN          NaN   \n",
      "\n",
      "   Unnamed: 12  \n",
      "0          NaN  \n",
      "1          NaN  \n",
      "2          NaN  \n",
      "3          NaN  \n",
      "4          NaN  \n"
     ]
    }
   ],
   "source": [
    "final_df = pd.DataFrame()\n",
    "metadata_df = pd.DataFrame()\n",
    "\n",
    "file = files[3]\n",
    "#df = pd.read_excel(in_path_june_2016_report4 + file,nrows=20)\n",
    "df = db.download_file(in_path_june_2016_report,file,rows=20)\n",
    "col_list = df.columns.tolist()\n",
    "Report_Produced_Date = [x for x in col_list if isinstance(x, datetime.datetime)]\n",
    "col_list = [x for x in col_list if isinstance(x, datetime.datetime)==False]\n",
    "FOIA_Request = [x for x in col_list if 'FOIA' in x][0]\n",
    "# +1 because of python indexing\n",
    "skip = np.where(df.iloc[:,0]==\"Number\")[0][0]+1\n",
    "#df = pd.read_excel(in_path_june_2016_report4 + file, skiprows=skip)\n",
    "df = db.download_file(in_path_june_2016_report,file,skip=skip)\n",
    "df.dropna(how='all', inplace=True)\n",
    "print(df.head())\n",
    "## Remove leading and trailing whitespace from columns \n",
    "df.columns = [col.strip() for col in df.columns.tolist()]\n",
    "\n",
    "## Filling Number Column\n",
    "df['Number'].fillna(method='ffill', inplace=True)\n",
    "df['Number'] = df['Number'].astype(int)\n",
    "\n",
    "## Drops end of record \n",
    "df = df.dropna(subset=[\"Gender\",\"Age\",\"Race Desc\"],how=\"all\",axis=0)\n",
    "\n",
    "## drops the significant number of columns that are all nulls\n",
    "df = null_dropper(df)\n",
    "\n",
    "df.columns = [\"CRID\",\"Victim_Gender\",\"Victim_Age\",\"Victim_Race\"]\n",
    "\n",
    "## drop end of record rows\n",
    "df = df[df[\"Victim_Race\"]!=\"end of record\"]\n",
    "\n",
    "## Adding File Metadata\n",
    "df[\"FOIA_Request_Number\"]=FOIA_Request\n",
    "try:\n",
    "    df[\"Report_Produced_Date\"]=Report_Produced_Date[0].date()\n",
    "except:\n",
    "    df[\"Report_Produced_Date\"]=''  \n",
    "    \n",
    "final_df = final_df.append(df)\n",
    "final_df.reset_index(drop=True,inplace=True)\n",
    "metadata_df = metadata_df.append(metadata_dataset(df,file))\n",
    "metadata_df.reset_index(drop=True,inplace=True)"
   ]
  },
  {
   "cell_type": "code",
   "execution_count": 18,
   "metadata": {
    "collapsed": false
   },
   "outputs": [
    {
     "data": {
      "text/html": [
       "<div>\n",
       "<table border=\"1\" class=\"dataframe\">\n",
       "  <thead>\n",
       "    <tr style=\"text-align: right;\">\n",
       "      <th></th>\n",
       "      <th>CRID</th>\n",
       "      <th>Victim_Gender</th>\n",
       "      <th>Victim_Age</th>\n",
       "      <th>Victim_Race</th>\n",
       "      <th>FOIA_Request_Number</th>\n",
       "      <th>Report_Produced_Date</th>\n",
       "    </tr>\n",
       "  </thead>\n",
       "  <tbody>\n",
       "    <tr>\n",
       "      <th>0</th>\n",
       "      <td>1039179</td>\n",
       "      <td>F</td>\n",
       "      <td>25.832877</td>\n",
       "      <td>BLACK</td>\n",
       "      <td>FOIA # P046957\\nReport 4\\nVictim  Data\\nIncide...</td>\n",
       "      <td>2016-06-16</td>\n",
       "    </tr>\n",
       "    <tr>\n",
       "      <th>1</th>\n",
       "      <td>1039179</td>\n",
       "      <td>M</td>\n",
       "      <td>38.000000</td>\n",
       "      <td>BLACK</td>\n",
       "      <td>FOIA # P046957\\nReport 4\\nVictim  Data\\nIncide...</td>\n",
       "      <td>2016-06-16</td>\n",
       "    </tr>\n",
       "    <tr>\n",
       "      <th>2</th>\n",
       "      <td>1053502</td>\n",
       "      <td>F</td>\n",
       "      <td>NaN</td>\n",
       "      <td>BLACK</td>\n",
       "      <td>FOIA # P046957\\nReport 4\\nVictim  Data\\nIncide...</td>\n",
       "      <td>2016-06-16</td>\n",
       "    </tr>\n",
       "    <tr>\n",
       "      <th>3</th>\n",
       "      <td>1053505</td>\n",
       "      <td>F</td>\n",
       "      <td>18.378082</td>\n",
       "      <td>BLACK</td>\n",
       "      <td>FOIA # P046957\\nReport 4\\nVictim  Data\\nIncide...</td>\n",
       "      <td>2016-06-16</td>\n",
       "    </tr>\n",
       "    <tr>\n",
       "      <th>4</th>\n",
       "      <td>1053509</td>\n",
       "      <td>F</td>\n",
       "      <td>42.747945</td>\n",
       "      <td>WHITE HISPANIC</td>\n",
       "      <td>FOIA # P046957\\nReport 4\\nVictim  Data\\nIncide...</td>\n",
       "      <td>2016-06-16</td>\n",
       "    </tr>\n",
       "  </tbody>\n",
       "</table>\n",
       "</div>"
      ],
      "text/plain": [
       "      CRID Victim_Gender  Victim_Age     Victim_Race  \\\n",
       "0  1039179             F   25.832877           BLACK   \n",
       "1  1039179             M   38.000000           BLACK   \n",
       "2  1053502             F         NaN           BLACK   \n",
       "3  1053505             F   18.378082           BLACK   \n",
       "4  1053509             F   42.747945  WHITE HISPANIC   \n",
       "\n",
       "                                 FOIA_Request_Number Report_Produced_Date  \n",
       "0  FOIA # P046957\\nReport 4\\nVictim  Data\\nIncide...           2016-06-16  \n",
       "1  FOIA # P046957\\nReport 4\\nVictim  Data\\nIncide...           2016-06-16  \n",
       "2  FOIA # P046957\\nReport 4\\nVictim  Data\\nIncide...           2016-06-16  \n",
       "3  FOIA # P046957\\nReport 4\\nVictim  Data\\nIncide...           2016-06-16  \n",
       "4  FOIA # P046957\\nReport 4\\nVictim  Data\\nIncide...           2016-06-16  "
      ]
     },
     "execution_count": 18,
     "metadata": {},
     "output_type": "execute_result"
    }
   ],
   "source": [
    "final_df.head()"
   ]
  },
  {
   "cell_type": "code",
   "execution_count": null,
   "metadata": {
    "collapsed": true
   },
   "outputs": [],
   "source": [
    "final_df.to_csv(out_path_june_2016_report4+saving_files[3]+\".csv\",index=False)\n",
    "final_df.to_excel(out_path_june_2016_report4+saving_files[3]+\".xlsx\",index=False)\n",
    "\n",
    "metadata_df.to_csv(out_path_june_2016_report4+saving_files[3]+\"_metadata.csv\",index=False)"
   ]
  },
  {
   "cell_type": "markdown",
   "metadata": {},
   "source": [
    "### Report 5"
   ]
  },
  {
   "cell_type": "code",
   "execution_count": 19,
   "metadata": {
    "collapsed": false
   },
   "outputs": [
    {
     "data": {
      "text/plain": [
       "['P046957 - report 1 - all complaints in time frame-unlocked.xlsx',\n",
       " 'P046957 - report 2 - identified accused xi-unlocked.xlsx',\n",
       " 'P046957 - report 3 - police officer witness data xi-unlocked.xlsx',\n",
       " 'P046957 - report 4 - victim data-unlocked.xlsx',\n",
       " 'P046957 - report 5 - complainant (reporting party) data-unlocked.xlsx']"
      ]
     },
     "execution_count": 19,
     "metadata": {},
     "output_type": "execute_result"
    }
   ],
   "source": [
    "files = [file for file in  db.list_files(in_path_june_2016_report) if 'unlocked' in file and '~$' not in file]\n",
    "files"
   ]
  },
  {
   "cell_type": "code",
   "execution_count": 20,
   "metadata": {
    "collapsed": false
   },
   "outputs": [
    {
     "name": "stdout",
     "output_type": "stream",
     "text": [
      "/Data/Import/input/complaints-cpd-2016-jun/p046957 - report 5 - complainant (reporting party) data-unlocked.xlsx\n",
      "/Data/Import/input/complaints-cpd-2016-jun/p046957 - report 5 - complainant (reporting party) data-unlocked.xlsx\n",
      "      Number  Unnamed: 1 Gender        Age  Unnamed: 4      Race Desc  \\\n",
      "0  1038595.0         NaN    NaN        NaN         NaN            NaN   \n",
      "1        NaN         NaN      F  63.805479         NaN          WHITE   \n",
      "2        NaN         NaN    NaN        NaN         NaN  end of record   \n",
      "3  1039179.0         NaN    NaN        NaN         NaN            NaN   \n",
      "4        NaN         NaN      M  50.449315         NaN          BLACK   \n",
      "\n",
      "   Unnamed: 6  Unnamed: 7  Unnamed: 8  Unnamed: 9  Unnamed: 10  Unnamed: 11  \n",
      "0         NaN         NaN         NaN         NaN          NaN          NaN  \n",
      "1         NaN         NaN         NaN         NaN          NaN          NaN  \n",
      "2         NaN         NaN         NaN         NaN          NaN          NaN  \n",
      "3         NaN         NaN         NaN         NaN          NaN          NaN  \n",
      "4         NaN         NaN         NaN         NaN          NaN          NaN  \n"
     ]
    }
   ],
   "source": [
    "final_df = pd.DataFrame()\n",
    "metadata_df = pd.DataFrame()\n",
    "\n",
    "file = files[4]\n",
    "#df = pd.read_excel(in_path_june_2016_report5 + file,nrows=20)\n",
    "df = db.download_file(in_path_june_2016_report,file,rows=20)\n",
    "col_list = df.columns.tolist()\n",
    "Report_Produced_Date = [x for x in col_list if isinstance(x, datetime.datetime)]\n",
    "col_list = [x for x in col_list if isinstance(x, datetime.datetime)==False]\n",
    "FOIA_Request = [x for x in col_list if 'FOIA' in x][0]\n",
    "# +1 because of python indexing\n",
    "skip = np.where(df.iloc[:,0]==\"Number\")[0][0]+1\n",
    "#df = pd.read_excel(in_path_june_2016_report5 + file, skiprows=skip)\n",
    "df = db.download_file(in_path_june_2016_report,file,skip=skip)\n",
    "df.dropna(how='all', inplace=True)\n",
    "print(df.head())\n",
    "## Remove leading and trailing whitespace from columns \n",
    "df.columns = [col.strip() for col in df.columns.tolist()]\n",
    "\n",
    "## Filling Number Column\n",
    "df['Number'].fillna(method='ffill', inplace=True)\n",
    "df['Number'] = df['Number'].astype(int)\n",
    "\n",
    "## Drops end of record \n",
    "df = df.dropna(subset=[\"Gender\",\"Age\",\"Race Desc\"],how=\"all\",axis=0)\n",
    "\n",
    "## drops the significant number of columns that are all nulls\n",
    "df = null_dropper(df)\n",
    "\n",
    "df.columns = [\"CRID\",\"Witness_Gender\",\"Witness_Age\",\"Witness_Race\"]\n",
    "\n",
    "## drop end of record rows\n",
    "df = df[df[\"Witness_Race\"]!=\"end of record\"]\n",
    "\n",
    "## Adding File Metadata\n",
    "df[\"FOIA_Request_Number\"]=FOIA_Request\n",
    "try:\n",
    "    df[\"Report_Produced_Date\"]=Report_Produced_Date[0].date()\n",
    "except:\n",
    "    df[\"Report_Produced_Date\"]=''  \n",
    "    \n",
    "final_df = final_df.append(df)\n",
    "final_df.reset_index(drop=True,inplace=True)\n",
    "metadata_df = metadata_df.append(metadata_dataset(df,file))\n",
    "metadata_df.reset_index(drop=True,inplace=True)"
   ]
  },
  {
   "cell_type": "code",
   "execution_count": 21,
   "metadata": {
    "collapsed": false
   },
   "outputs": [
    {
     "data": {
      "text/html": [
       "<div>\n",
       "<table border=\"1\" class=\"dataframe\">\n",
       "  <thead>\n",
       "    <tr style=\"text-align: right;\">\n",
       "      <th></th>\n",
       "      <th>CRID</th>\n",
       "      <th>Witness_Gender</th>\n",
       "      <th>Witness_Age</th>\n",
       "      <th>Witness_Race</th>\n",
       "      <th>FOIA_Request_Number</th>\n",
       "      <th>Report_Produced_Date</th>\n",
       "    </tr>\n",
       "  </thead>\n",
       "  <tbody>\n",
       "    <tr>\n",
       "      <th>0</th>\n",
       "      <td>1038595</td>\n",
       "      <td>F</td>\n",
       "      <td>63.805479</td>\n",
       "      <td>WHITE</td>\n",
       "      <td>FOIA # P046957\\nReport 5\\nComplainant  Data\\nI...</td>\n",
       "      <td>2016-06-16</td>\n",
       "    </tr>\n",
       "    <tr>\n",
       "      <th>1</th>\n",
       "      <td>1039179</td>\n",
       "      <td>M</td>\n",
       "      <td>50.449315</td>\n",
       "      <td>BLACK</td>\n",
       "      <td>FOIA # P046957\\nReport 5\\nComplainant  Data\\nI...</td>\n",
       "      <td>2016-06-16</td>\n",
       "    </tr>\n",
       "    <tr>\n",
       "      <th>2</th>\n",
       "      <td>1039179</td>\n",
       "      <td>M</td>\n",
       "      <td>51.391781</td>\n",
       "      <td>BLACK</td>\n",
       "      <td>FOIA # P046957\\nReport 5\\nComplainant  Data\\nI...</td>\n",
       "      <td>2016-06-16</td>\n",
       "    </tr>\n",
       "    <tr>\n",
       "      <th>3</th>\n",
       "      <td>1039179</td>\n",
       "      <td>F</td>\n",
       "      <td>34.641096</td>\n",
       "      <td>BLACK</td>\n",
       "      <td>FOIA # P046957\\nReport 5\\nComplainant  Data\\nI...</td>\n",
       "      <td>2016-06-16</td>\n",
       "    </tr>\n",
       "    <tr>\n",
       "      <th>4</th>\n",
       "      <td>1053492</td>\n",
       "      <td>F</td>\n",
       "      <td>51.364384</td>\n",
       "      <td>BLACK</td>\n",
       "      <td>FOIA # P046957\\nReport 5\\nComplainant  Data\\nI...</td>\n",
       "      <td>2016-06-16</td>\n",
       "    </tr>\n",
       "  </tbody>\n",
       "</table>\n",
       "</div>"
      ],
      "text/plain": [
       "      CRID Witness_Gender  Witness_Age Witness_Race  \\\n",
       "0  1038595              F    63.805479        WHITE   \n",
       "1  1039179              M    50.449315        BLACK   \n",
       "2  1039179              M    51.391781        BLACK   \n",
       "3  1039179              F    34.641096        BLACK   \n",
       "4  1053492              F    51.364384        BLACK   \n",
       "\n",
       "                                 FOIA_Request_Number Report_Produced_Date  \n",
       "0  FOIA # P046957\\nReport 5\\nComplainant  Data\\nI...           2016-06-16  \n",
       "1  FOIA # P046957\\nReport 5\\nComplainant  Data\\nI...           2016-06-16  \n",
       "2  FOIA # P046957\\nReport 5\\nComplainant  Data\\nI...           2016-06-16  \n",
       "3  FOIA # P046957\\nReport 5\\nComplainant  Data\\nI...           2016-06-16  \n",
       "4  FOIA # P046957\\nReport 5\\nComplainant  Data\\nI...           2016-06-16  "
      ]
     },
     "execution_count": 21,
     "metadata": {},
     "output_type": "execute_result"
    }
   ],
   "source": [
    "final_df.head()"
   ]
  },
  {
   "cell_type": "code",
   "execution_count": null,
   "metadata": {
    "collapsed": true
   },
   "outputs": [],
   "source": [
    "final_df.to_csv(out_path_june_2016_report5+saving_files[4]+\".csv\",index=False)\n",
    "final_df.to_excel(out_path_june_2016_report5+saving_files[4]+\".xlsx\",index=False)\n",
    "\n",
    "metadata_df.to_csv(out_path_june_2016_report5+saving_files[4]+\"_metadata.csv\",index=False)"
   ]
  }
 ],
 "metadata": {
  "anaconda-cloud": {},
  "kernelspec": {
   "display_name": "Civis Model",
   "language": "python",
   "name": "civis-model"
  },
  "language_info": {
   "codemirror_mode": {
    "name": "ipython",
    "version": 3
   },
   "file_extension": ".py",
   "mimetype": "text/x-python",
   "name": "python",
   "nbconvert_exporter": "python",
   "pygments_lexer": "ipython3",
   "version": "3.5.2"
  }
 },
 "nbformat": 4,
 "nbformat_minor": 0
}
